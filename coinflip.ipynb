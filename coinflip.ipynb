{
 "cells": [
  {
   "cell_type": "code",
   "execution_count": 1,
   "id": "264ef519",
   "metadata": {},
   "outputs": [],
   "source": [
    "from datascience import *\n",
    "import numpy as np\n",
    "\n",
    "%matplotlib inline\n",
    "import matplotlib.pyplot as plots\n",
    "plots.style.use('fivethirtyeight')\n",
    "import warnings\n",
    "#warnings.simplefilter(action='ignore', category=np.VisibleDeprecationWarning)"
   ]
  },
  {
   "cell_type": "markdown",
   "id": "275d8df3",
   "metadata": {},
   "source": [
    "# Generating a Histogram of Coin Flips\n",
    "\n",
    "I claim to have a fair coin. I flipped it 100 times and got a total of 85 heads. Should you doubt that the coin is fair? \\\n",
    "\n",
    "Null Hypothesis: The coin is fair and pure random chance is sufficient to explain the observation (85 heads out of 100 flips).\n",
    "\n",
    "Strategy for exploring the null hypothesis\n",
    "1. Write a function that flips a *fair* coin 100 times and returns the total number of heads. Call this sequence of 100 flips a single experiment.\n",
    "2. Use a for loop to run the experiment many times and gather up all the outcomes into an array.\n",
    "3. Create a single column table containing the outcomes in the array.\n",
    "4. Visualize the outcomes with a histogram."
   ]
  },
  {
   "cell_type": "markdown",
   "id": "d9c44085",
   "metadata": {},
   "source": [
    "# Step 1: Create Function for the Experiment"
   ]
  },
  {
   "cell_type": "code",
   "execution_count": null,
   "id": "e6d5e8c2",
   "metadata": {},
   "outputs": [],
   "source": [
    "def coin_flip_100():\n",
    "    \n",
    "    # initialize a varible to 0 (this is to count the number of heads)\n",
    "    heads = 0\n",
    "\n",
    "    # for loop running 100 times\n",
    "        # flip a coin\n",
    "        # if heads\n",
    "            # increment your counter\n",
    "\n",
    "    for \n",
    "            \n",
    "    return # the number of coin flips"
   ]
  },
  {
   "cell_type": "markdown",
   "id": "fabfb3cb",
   "metadata": {},
   "source": [
    "# Step 2: Iterate the experiment many times"
   ]
  },
  {
   "cell_type": "code",
   "execution_count": 14,
   "id": "27f57ddf",
   "metadata": {},
   "outputs": [],
   "source": [
    "# initalize an array to empty (this is to gather all the experimental outcomes)\n",
    "\n",
    "# for loop running 1000 times\n",
    "    # run the experiment\n",
    "    # append the outcome to the array"
   ]
  },
  {
   "cell_type": "markdown",
   "id": "701728d8",
   "metadata": {},
   "source": [
    "# Step 3 and 4: Create a table and histogram"
   ]
  },
  {
   "cell_type": "code",
   "execution_count": 15,
   "id": "da39d938",
   "metadata": {},
   "outputs": [],
   "source": [
    "# Create a blank table and use with_column to load in the array of data\n",
    "\n",
    "# Create a histogram from the table\n"
   ]
  },
  {
   "cell_type": "markdown",
   "id": "0002378f",
   "metadata": {},
   "source": []
  }
 ],
 "metadata": {
  "kernelspec": {
   "display_name": "Python 3",
   "language": "python",
   "name": "python3"
  },
  "language_info": {
   "codemirror_mode": {
    "name": "ipython",
    "version": 3
   },
   "file_extension": ".py",
   "mimetype": "text/x-python",
   "name": "python",
   "nbconvert_exporter": "python",
   "pygments_lexer": "ipython3",
   "version": "3.12.1"
  }
 },
 "nbformat": 4,
 "nbformat_minor": 5
}
