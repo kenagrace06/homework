{
 "cells": [
  {
   "cell_type": "code",
   "execution_count": 92,
   "id": "f17491a7",
   "metadata": {},
   "outputs": [],
   "source": [
    "from datascience import *\n",
    "import numpy as np\n",
    "\n",
    "%matplotlib inline\n",
    "import matplotlib.pyplot as plots\n",
    "plots.style.use('fivethirtyeight')"
   ]
  },
  {
   "cell_type": "code",
   "execution_count": 2,
   "id": "2952ffaf",
   "metadata": {},
   "outputs": [
    {
     "data": {
      "text/html": [
       "<table border=\"1\" class=\"dataframe\">\n",
       "    <thead>\n",
       "        <tr>\n",
       "            <th>Votes</th> <th>Rating</th> <th>Title</th> <th>Year</th> <th>Decade</th>\n",
       "        </tr>\n",
       "    </thead>\n",
       "    <tbody>\n",
       "        <tr>\n",
       "            <td>88355 </td> <td>8.4   </td> <td>M                  </td> <td>1931</td> <td>1930  </td>\n",
       "        </tr>\n",
       "        <tr>\n",
       "            <td>132823</td> <td>8.3   </td> <td>Singin' in the Rain</td> <td>1952</td> <td>1950  </td>\n",
       "        </tr>\n",
       "        <tr>\n",
       "            <td>74178 </td> <td>8.3   </td> <td>All About Eve      </td> <td>1950</td> <td>1950  </td>\n",
       "        </tr>\n",
       "        <tr>\n",
       "            <td>635139</td> <td>8.6   </td> <td>Léon               </td> <td>1994</td> <td>1990  </td>\n",
       "        </tr>\n",
       "        <tr>\n",
       "            <td>145514</td> <td>8.2   </td> <td>The Elephant Man   </td> <td>1980</td> <td>1980  </td>\n",
       "        </tr>\n",
       "    </tbody>\n",
       "</table>\n",
       "<p>... (245 rows omitted)</p>"
      ],
      "text/plain": [
       "<IPython.core.display.HTML object>"
      ]
     },
     "metadata": {},
     "output_type": "display_data"
    }
   ],
   "source": [
    "imdb = Table.read_table('imdb.csv')\n",
    "imdb.show(5)"
   ]
  },
  {
   "cell_type": "markdown",
   "id": "5b089e0f",
   "metadata": {},
   "source": [
    "# Question 1\n",
    "Find the ten movies released in the year 2000 or later with the highest number of votes according to imdb.csv. Format your answer as a table with columns Title and Votes (in that order) of the three requested movies."
   ]
  },
  {
   "cell_type": "code",
   "execution_count": 48,
   "id": "424c9498",
   "metadata": {},
   "outputs": [
    {
     "data": {
      "text/html": [
       "<table border=\"1\" class=\"dataframe\">\n",
       "    <thead>\n",
       "        <tr>\n",
       "            <th>Title</th> <th>Votes</th>\n",
       "        </tr>\n",
       "    </thead>\n",
       "    <tbody>\n",
       "        <tr>\n",
       "            <td>The Dark Knight                                  </td> <td>1473049</td>\n",
       "        </tr>\n",
       "        <tr>\n",
       "            <td>Inception                                        </td> <td>1271949</td>\n",
       "        </tr>\n",
       "        <tr>\n",
       "            <td>The Lord of the Rings: The Fellowship of the Ring</td> <td>1099087</td>\n",
       "        </tr>\n",
       "        <tr>\n",
       "            <td>The Lord of the Rings: The Return of the King    </td> <td>1074146</td>\n",
       "        </tr>\n",
       "        <tr>\n",
       "            <td>The Dark Knight Rises                            </td> <td>997350 </td>\n",
       "        </tr>\n",
       "        <tr>\n",
       "            <td>The Lord of the Rings: The Two Towers            </td> <td>967389 </td>\n",
       "        </tr>\n",
       "        <tr>\n",
       "            <td>Gladiator                                        </td> <td>862216 </td>\n",
       "        </tr>\n",
       "        <tr>\n",
       "            <td>The Avengers                                     </td> <td>862016 </td>\n",
       "        </tr>\n",
       "        <tr>\n",
       "            <td>Batman Begins                                    </td> <td>850601 </td>\n",
       "        </tr>\n",
       "    </tbody>\n",
       "</table>"
      ],
      "text/plain": [
       "Title                                             | Votes\n",
       "The Dark Knight                                   | 1473049\n",
       "Inception                                         | 1271949\n",
       "The Lord of the Rings: The Fellowship of the Ring | 1099087\n",
       "The Lord of the Rings: The Return of the King     | 1074146\n",
       "The Dark Knight Rises                             | 997350\n",
       "The Lord of the Rings: The Two Towers             | 967389\n",
       "Gladiator                                         | 862216\n",
       "The Avengers                                      | 862016\n",
       "Batman Begins                                     | 850601"
      ]
     },
     "execution_count": 48,
     "metadata": {},
     "output_type": "execute_result"
    }
   ],
   "source": [
    "ten_movies = imdb.where(\"Year\", are.above_or_equal_to(2000))\n",
    "ten_movies = ten_movies.drop(\"Rating\", \"Year\", \"Decade\")\n",
    "ten_movies = ten_movies.sort(\"Votes\", descending=True)\n",
    "ten_movies = ten_movies.select(\"Title\", \"Votes\")\n",
    "ten_movies = ten_movies.take(np.arange(0, 9))\n",
    "\n",
    "ten_movies"
   ]
  },
  {
   "cell_type": "markdown",
   "id": "ce5d30cb",
   "metadata": {},
   "source": [
    "# Question 2\n",
    "\n",
    "Create a table with columns Title and Votes containing all movies released in 1999.\n",
    "\n",
    "Next, attach a new column to the table called Percent Votes that contains the percent of votes each movie received when considered among all votes cast for movies released in 1999.\n",
    "\n",
    "For example, if the total number of votes cast for movies released in 1999 is 200 and \"The Matrix\" received 30 of them, then the column Percent Votes corresponding to \"The Matrix\" should 15."
   ]
  },
  {
   "cell_type": "code",
   "execution_count": null,
   "id": "e52b9dde",
   "metadata": {},
   "outputs": [
    {
     "ename": "TypeError",
     "evalue": "'numpy.int64' object is not callable",
     "output_type": "error",
     "traceback": [
      "\u001b[31m---------------------------------------------------------------------------\u001b[39m",
      "\u001b[31mTypeError\u001b[39m                                 Traceback (most recent call last)",
      "\u001b[36mCell\u001b[39m\u001b[36m \u001b[39m\u001b[32mIn[108]\u001b[39m\u001b[32m, line 5\u001b[39m\n\u001b[32m      2\u001b[39m movies1999 = movies1999.select(\u001b[33m\"\u001b[39m\u001b[33mTitle\u001b[39m\u001b[33m\"\u001b[39m, \u001b[33m\"\u001b[39m\u001b[33mVotes\u001b[39m\u001b[33m\"\u001b[39m)\n\u001b[32m      3\u001b[39m votes_column = movies1999.column(\u001b[33m\"\u001b[39m\u001b[33mVotes\u001b[39m\u001b[33m\"\u001b[39m)\n\u001b[32m----> \u001b[39m\u001b[32m5\u001b[39m total_votes = \u001b[38;5;28;43msum\u001b[39;49m\u001b[43m(\u001b[49m\u001b[43mvotes_column\u001b[49m\u001b[43m)\u001b[49m\n\u001b[32m      7\u001b[39m percent_column = votes_column / total_votes * \u001b[32m100\u001b[39m\n\u001b[32m      8\u001b[39m movies1999 = movies1999.with_column(\u001b[33m\"\u001b[39m\u001b[33mPercent Votes\u001b[39m\u001b[33m\"\u001b[39m, percent_column)\n",
      "\u001b[31mTypeError\u001b[39m: 'numpy.int64' object is not callable"
     ]
    }
   ],
   "source": [
    "movies1999 = imdb.where(\"Year\", 1999)\n",
    "movies1999 = movies1999.select(\"Title\", \"Votes\")\n",
    "votes_column = movies1999.column(\"Votes\")\n",
    "\n",
    "total_votes = sum(votes_column)\n",
    "\n",
    "percent_column = votes_column / total_votes * 100\n",
    "movies1999 = movies1999.with_column(\"Percent Votes\", percent_column)\n",
    "movies1999\n"
   ]
  },
  {
   "cell_type": "code",
   "execution_count": null,
   "id": "6b66720f",
   "metadata": {},
   "outputs": [],
   "source": []
  }
 ],
 "metadata": {
  "kernelspec": {
   "display_name": "Python 3",
   "language": "python",
   "name": "python3"
  },
  "language_info": {
   "codemirror_mode": {
    "name": "ipython",
    "version": 3
   },
   "file_extension": ".py",
   "mimetype": "text/x-python",
   "name": "python",
   "nbconvert_exporter": "python",
   "pygments_lexer": "ipython3",
   "version": "3.12.1"
  }
 },
 "nbformat": 4,
 "nbformat_minor": 5
}
