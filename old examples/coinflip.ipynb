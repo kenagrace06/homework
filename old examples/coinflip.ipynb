{
 "cells": [
  {
   "cell_type": "code",
   "execution_count": 1,
   "id": "264ef519",
   "metadata": {},
   "outputs": [],
   "source": [
    "from datascience import *\n",
    "import numpy as np\n",
    "\n",
    "%matplotlib inline\n",
    "import matplotlib.pyplot as plots\n",
    "plots.style.use('fivethirtyeight')\n",
    "import warnings\n",
    "#warnings.simplefilter(action='ignore', category=np.VisibleDeprecationWarning)"
   ]
  },
  {
   "cell_type": "markdown",
   "id": "275d8df3",
   "metadata": {},
   "source": [
    "# Generating a Histogram of Coin Flips\n",
    "\n",
    "I claim to have a fair coin. I flipped it 100 times and got a total of 85 heads. Should you doubt that the coin is fair? \\\n",
    "\n",
    "Null Hypothesis: The coin is fair and pure random chance is sufficient to explain the observation (85 heads out of 100 flips).\n",
    "\n",
    "Strategy for exploring the null hypothesis\n",
    "1. Write a function that flips a *fair* coin 100 times and returns the total number of heads. Call this sequence of 100 flips a single experiment.\n",
    "2. Use a for loop to run the experiment many times and gather up all the outcomes into an array.\n",
    "3. Create a single column table containing the outcomes in the array.\n",
    "4. Visualize the outcomes with a histogram."
   ]
  },
  {
   "cell_type": "markdown",
   "id": "d9c44085",
   "metadata": {},
   "source": [
    "# Step 1: Create Function for the Experiment"
   ]
  },
  {
   "cell_type": "code",
   "execution_count": 2,
   "id": "e6d5e8c2",
   "metadata": {},
   "outputs": [],
   "source": [
    "def coin_flip_100():\n",
    "    num_heads = 0\n",
    "\n",
    "    for i in np.arange(100):\n",
    "        coin = make_array('heads', 'tails')\n",
    "        flip = np.random.choice(coin)\n",
    "\n",
    "        if flip == 'heads':\n",
    "            num_heads = num_heads + 1\n",
    "\n",
    "    return num_heads"
   ]
  },
  {
   "cell_type": "markdown",
   "id": "fabfb3cb",
   "metadata": {},
   "source": [
    "# Step 2: Iterate the experiment many times"
   ]
  },
  {
   "cell_type": "code",
   "execution_count": 3,
   "id": "27f57ddf",
   "metadata": {},
   "outputs": [
    {
     "data": {
      "text/plain": [
       "array([ 55.,  47.,  50.,  55.,  47.,  61.,  53.,  50.,  45.,  45.,  47.,\n",
       "        50.,  54.,  48.,  54.,  52.,  46.,  49.,  48.,  51.,  39.,  57.,\n",
       "        54.,  45.,  53.,  55.,  54.,  44.,  49.,  46.,  49.,  60.,  48.,\n",
       "        51.,  49.,  49.,  47.,  42.,  61.,  46.,  53.,  50.,  43.,  50.,\n",
       "        48.,  49.,  55.,  56.,  50.,  40.,  57.,  48.,  45.,  45.,  51.,\n",
       "        51.,  47.,  45.,  54.,  48.,  49.,  46.,  40.,  43.,  60.,  53.,\n",
       "        47.,  51.,  50.,  58.,  60.,  63.,  51.,  53.,  56.,  51.,  51.,\n",
       "        53.,  54.,  61.,  52.,  51.,  49.,  49.,  41.,  43.,  45.,  52.,\n",
       "        43.,  53.,  55.,  49.,  51.,  59.,  42.,  46.,  50.,  52.,  42.,\n",
       "        51.,  51.,  45.,  60.,  57.,  57.,  48.,  46.,  49.,  53.,  50.,\n",
       "        50.,  46.,  43.,  50.,  49.,  54.,  52.,  51.,  47.,  45.,  46.,\n",
       "        41.,  55.,  46.,  57.,  52.,  53.,  47.,  49.,  42.,  50.,  49.,\n",
       "        56.,  47.,  54.,  57.,  44.,  49.,  51.,  56.,  52.,  52.,  46.,\n",
       "        41.,  42.,  47.,  56.,  61.,  45.,  45.,  54.,  54.,  49.,  46.,\n",
       "        53.,  44.,  48.,  43.,  54.,  52.,  43.,  48.,  45.,  49.,  60.,\n",
       "        37.,  50.,  56.,  44.,  57.,  47.,  46.,  55.,  51.,  46.,  43.,\n",
       "        48.,  48.,  47.,  53.,  52.,  58.,  36.,  43.,  40.,  50.,  50.,\n",
       "        50.,  50.,  52.,  53.,  47.,  49.,  52.,  55.,  50.,  50.,  55.,\n",
       "        48.,  56.,  55.,  49.,  49.,  49.,  46.,  53.,  49.,  54.,  56.,\n",
       "        56.,  42.,  45.,  54.,  44.,  52.,  40.,  43.,  50.,  57.,  50.,\n",
       "        42.,  49.,  51.,  43.,  52.,  50.,  48.,  46.,  48.,  45.,  50.,\n",
       "        53.,  56.,  56.,  50.,  54.,  60.,  48.,  50.,  43.,  43.,  49.,\n",
       "        48.,  37.,  45.,  53.,  42.,  48.,  51.,  53.,  53.,  42.,  45.,\n",
       "        50.,  50.,  50.,  40.,  48.,  49.,  56.,  47.,  45.,  50.,  52.,\n",
       "        47.,  48.,  52.,  46.,  54.,  50.,  45.,  52.,  51.,  53.,  48.,\n",
       "        52.,  44.,  54.,  50.,  52.,  53.,  50.,  52.,  58.,  51.,  40.,\n",
       "        66.,  49.,  44.,  57.,  43.,  51.,  51.,  46.,  46.,  52.,  47.,\n",
       "        40.,  52.,  64.,  52.,  49.,  48.,  45.,  51.,  45.,  45.,  57.,\n",
       "        48.,  54.,  52.,  47.,  45.,  45.,  58.,  42.,  50.,  50.,  58.,\n",
       "        43.,  54.,  47.,  57.,  53.,  41.,  47.,  54.,  58.,  45.,  53.,\n",
       "        51.,  49.,  40.,  51.,  65.,  40.,  59.,  49.,  45.,  52.,  48.,\n",
       "        54.,  50.,  55.,  52.,  55.,  52.,  43.,  45.,  48.,  58.,  55.,\n",
       "        45.,  46.,  55.,  46.,  44.,  45.,  47.,  61.,  48.,  48.,  46.,\n",
       "        57.,  51.,  58.,  39.,  51.,  54.,  50.,  59.,  61.,  45.,  53.,\n",
       "        55.,  56.,  54.,  48.,  52.,  52.,  50.,  45.,  50.,  51.,  43.,\n",
       "        56.,  50.,  51.,  42.,  48.,  56.,  49.,  59.,  46.,  46.,  52.,\n",
       "        47.,  45.,  49.,  50.,  48.,  47.,  54.,  49.,  48.,  57.,  51.,\n",
       "        49.,  56.,  56.,  54.,  52.,  43.,  44.,  44.,  47.,  49.,  47.,\n",
       "        47.,  51.,  46.,  44.,  42.,  43.,  49.,  45.,  50.,  46.,  47.,\n",
       "        57.,  49.,  42.,  39.,  49.,  48.,  52.,  51.,  53.,  51.,  47.,\n",
       "        39.,  48.,  50.,  44.,  53.,  50.,  50.,  45.,  60.,  51.,  50.,\n",
       "        55.,  38.,  50.,  52.,  49.,  60.,  50.,  49.,  42.,  46.,  50.,\n",
       "        53.,  45.,  48.,  55.,  42.,  45.,  57.,  46.,  50.,  56.,  48.,\n",
       "        48.,  55.,  56.,  55.,  57.,  57.,  48.,  56.,  50.,  52.,  56.,\n",
       "        48.,  51.,  56.,  55.,  44.,  46.,  55.,  55.,  56.,  45.,  47.,\n",
       "        54.,  50.,  50.,  39.,  50.,  51.,  59.,  47.,  42.,  47.,  49.,\n",
       "        53.,  53.,  58.,  49.,  45.,  47.,  53.,  51.,  48.,  52.,  42.,\n",
       "        48.,  42.,  58.,  52.,  56.,  52.,  46.,  50.,  56.,  50.,  60.,\n",
       "        51.,  51.,  44.,  58.,  48.,  45.,  47.,  54.,  57.,  52.,  45.,\n",
       "        47.,  47.,  58.,  45.,  49.,  52.,  52.,  45.,  63.,  48.,  45.,\n",
       "        55.,  52.,  55.,  51.,  52.,  58.,  47.,  59.,  50.,  54.,  43.,\n",
       "        52.,  38.,  46.,  51.,  53.,  52.,  54.,  49.,  50.,  49.,  49.,\n",
       "        49.,  53.,  55.,  51.,  51.,  54.,  48.,  55.,  49.,  52.,  54.,\n",
       "        49.,  45.,  42.,  51.,  46.,  51.,  50.,  53.,  44.,  50.,  55.,\n",
       "        50.,  52.,  45.,  42.,  46.,  46.,  41.,  52.,  51.,  52.,  54.,\n",
       "        44.,  49.,  47.,  55.,  58.,  55.,  40.,  51.,  55.,  45.,  51.,\n",
       "        50.,  48.,  47.,  49.,  49.,  52.,  52.,  48.,  56.,  48.,  50.,\n",
       "        51.,  52.,  59.,  50.,  52.,  46.,  50.,  55.,  50.,  45.,  48.,\n",
       "        43.,  40.,  56.,  52.,  48.,  59.,  53.,  49.,  45.,  52.,  46.,\n",
       "        49.,  49.,  50.,  53.,  48.,  54.,  50.,  52.,  54.,  46.,  54.,\n",
       "        55.,  44.,  54.,  47.,  50.,  54.,  45.,  51.,  46.,  39.,  46.,\n",
       "        45.,  50.,  55.,  47.,  55.,  61.,  50.,  48.,  58.,  51.,  50.,\n",
       "        51.,  47.,  55.,  51.,  50.,  55.,  51.,  54.,  44.,  49.,  57.,\n",
       "        45.,  45.,  50.,  50.,  39.,  39.,  55.,  51.,  45.,  52.,  50.,\n",
       "        41.,  53.,  47.,  53.,  51.,  53.,  46.,  49.,  53.,  59.,  50.,\n",
       "        49.,  47.,  46.,  55.,  48.,  46.,  46.,  53.,  49.,  50.,  43.,\n",
       "        51.,  65.,  53.,  47.,  52.,  47.,  42.,  50.,  50.,  58.,  39.,\n",
       "        54.,  51.,  47.,  45.,  56.,  50.,  49.,  45.,  51.,  53.,  59.,\n",
       "        40.,  51.,  36.,  50.,  57.,  57.,  44.,  53.,  44.,  48.,  55.,\n",
       "        53.,  50.,  46.,  53.,  52.,  55.,  49.,  41.,  46.,  51.,  51.,\n",
       "        52.,  61.,  46.,  44.,  53.,  55.,  59.,  47.,  44.,  53.,  46.,\n",
       "        42.,  53.,  53.,  53.,  57.,  53.,  49.,  48.,  56.,  51.,  55.,\n",
       "        48.,  43.,  57.,  43.,  50.,  42.,  42.,  55.,  50.,  50.,  45.,\n",
       "        59.,  46.,  45.,  47.,  48.,  46.,  49.,  49.,  53.,  48.,  55.,\n",
       "        46.,  56.,  51.,  51.,  55.,  48.,  51.,  52.,  46.,  49.,  54.,\n",
       "        58.,  51.,  48.,  58.,  50.,  45.,  50.,  52.,  49.,  55.,  44.,\n",
       "        48.,  48.,  50.,  56.,  56.,  58.,  51.,  40.,  42.,  46.,  53.,\n",
       "        55.,  50.,  42.,  55.,  47.,  54.,  59.,  50.,  47.,  50.,  43.,\n",
       "        49.,  44.,  48.,  52.,  52.,  50.,  45.,  44.,  54.,  48.,  50.,\n",
       "        45.,  55.,  47.,  53.,  52.,  55.,  43.,  49.,  46.,  51.,  61.,\n",
       "        52.,  43.,  48.,  53.,  51.,  56.,  53.,  45.,  48.,  52.,  54.,\n",
       "        45.,  50.,  53.,  47.,  48.,  54.,  49.,  48.,  50.,  44.,  51.,\n",
       "        56.,  58.,  50.,  56.,  49.,  44.,  55.,  55.,  47.,  50.,  43.,\n",
       "        53.,  51.,  46.,  45.,  45.,  52.,  44.,  46.,  41.,  48.,  56.,\n",
       "        55.,  49.,  51.,  48.,  46.,  51.,  54.,  46.,  49.,  50.,  47.,\n",
       "        46.,  56.,  44.,  40.,  52.,  54.,  45.,  52.,  44.,  54.,  49.,\n",
       "        49.,  52.,  52.,  48.,  42.,  46.,  52.,  46.,  58.,  48.,  49.,\n",
       "        53.,  49.,  41.,  56.,  54.,  44.,  50.,  53.,  51.,  48.,  50.,\n",
       "        52.,  44.,  51.,  49.,  47.,  53.,  53.,  48.,  53.,  58.,  50.,\n",
       "        48.,  45.,  50.,  51.,  46.,  52.,  53.,  53.,  52.,  50.,  50.,\n",
       "        60.,  52.,  49.,  39.,  54.,  53.,  46.,  45.,  47.,  59.])"
      ]
     },
     "execution_count": 3,
     "metadata": {},
     "output_type": "execute_result"
    }
   ],
   "source": [
    "# initalize an array to empty (this is to gather all the experimental outcomes)\n",
    "outcomes = make_array()\n",
    "# for loop running 1000 times\n",
    "    # run the experiment\n",
    "    # append the outcome to the array\n",
    "for i in np.arange(1000):\n",
    "    experiment = coin_flip_100()\n",
    "    outcomes = np.append(outcomes, experiment)\n",
    "\n",
    "outcomes"
   ]
  },
  {
   "cell_type": "markdown",
   "id": "701728d8",
   "metadata": {},
   "source": [
    "# Step 3 and 4: Create a table and histogram"
   ]
  },
  {
   "cell_type": "code",
   "execution_count": 4,
   "id": "da39d938",
   "metadata": {},
   "outputs": [
    {
     "data": {
      "image/png": "[encoded data removed]",
      "text/plain": [
       "<Figure size 600x400 with 1 Axes>"
      ]
     },
     "metadata": {},
     "output_type": "display_data"
    }
   ],
   "source": [
    "# Create a blank table and use with_column to load in the array of data\n",
    "table = Table().with_column('Number of heads in 100 flips', outcomes)\n",
    "\n",
    "# Create a histogram from the table\n",
    "table.hist('Number of heads in 100 flips', bins = 20)"
   ]
  },
  {
   "cell_type": "markdown",
   "id": "0002378f",
   "metadata": {},
   "source": []
  }
 ],
 "metadata": {
  "kernelspec": {
   "display_name": "Python 3",
   "language": "python",
   "name": "python3"
  },
  "language_info": {
   "codemirror_mode": {
    "name": "ipython",
    "version": 3
   },
   "file_extension": ".py",
   "mimetype": "text/x-python",
   "name": "python",
   "nbconvert_exporter": "python",
   "pygments_lexer": "ipython3",
   "version": "3.12.1"
  }
 },
 "nbformat": 4,
 "nbformat_minor": 5
}
